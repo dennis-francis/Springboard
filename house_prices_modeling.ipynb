{
 "cells": [
  {
   "cell_type": "markdown",
   "id": "4b6c71fe",
   "metadata": {},
   "source": [
    "# Modeling"
   ]
  },
  {
   "cell_type": "markdown",
   "id": "c13f5caf",
   "metadata": {},
   "source": [
    "The goal will be to select the best regression model between OLS, Ridge, and Random Forest to predict housing prices."
   ]
  },
  {
   "cell_type": "code",
   "execution_count": 67,
   "id": "1ebf9465",
   "metadata": {},
   "outputs": [],
   "source": [
    "import pandas as pd\n",
    "import numpy as np\n",
    "import matplotlib.pyplot as plt\n",
    "from sklearn.model_selection import train_test_split\n",
    "from sklearn.model_selection import cross_val_score, KFold\n",
    "from sklearn.model_selection import GridSearchCV, RandomizedSearchCV\n",
    "from sklearn.linear_model import LinearRegression\n",
    "from sklearn.linear_model import Ridge\n",
    "from sklearn.ensemble import RandomForestRegressor\n",
    "from sklearn.metrics import mean_squared_error"
   ]
  },
  {
   "cell_type": "code",
   "execution_count": 2,
   "id": "7815a693",
   "metadata": {},
   "outputs": [],
   "source": [
    "df = pd.read_csv('/Users/dennisfrancis/Desktop/Data/house_prices_preprocessed.csv')"
   ]
  },
  {
   "cell_type": "code",
   "execution_count": 3,
   "id": "76d63755",
   "metadata": {},
   "outputs": [
    {
     "data": {
      "text/html": [
       "<div>\n",
       "<style scoped>\n",
       "    .dataframe tbody tr th:only-of-type {\n",
       "        vertical-align: middle;\n",
       "    }\n",
       "\n",
       "    .dataframe tbody tr th {\n",
       "        vertical-align: top;\n",
       "    }\n",
       "\n",
       "    .dataframe thead th {\n",
       "        text-align: right;\n",
       "    }\n",
       "</style>\n",
       "<table border=\"1\" class=\"dataframe\">\n",
       "  <thead>\n",
       "    <tr style=\"text-align: right;\">\n",
       "      <th></th>\n",
       "      <th>Unnamed: 0</th>\n",
       "      <th>SalePrice</th>\n",
       "      <th>YearBuilt_normalized</th>\n",
       "      <th>YearRemodAdd_normalized</th>\n",
       "      <th>BsmtFinSF1_normalized</th>\n",
       "      <th>BsmtUnfSF_normalized</th>\n",
       "      <th>TotalBsmtSF_normalized</th>\n",
       "      <th>1stFlrSF_normalized</th>\n",
       "      <th>2ndFlrSF_normalized</th>\n",
       "      <th>WoodDeckSF_normalized</th>\n",
       "      <th>...</th>\n",
       "      <th>D_ConLw</th>\n",
       "      <th>D_New</th>\n",
       "      <th>D_Oth</th>\n",
       "      <th>D_WD</th>\n",
       "      <th>D_Abnorml</th>\n",
       "      <th>D_AdjLand</th>\n",
       "      <th>D_Alloca</th>\n",
       "      <th>D_Family</th>\n",
       "      <th>D_Normal</th>\n",
       "      <th>D_Partial</th>\n",
       "    </tr>\n",
       "  </thead>\n",
       "  <tbody>\n",
       "    <tr>\n",
       "      <th>0</th>\n",
       "      <td>0</td>\n",
       "      <td>208500</td>\n",
       "      <td>0.949275</td>\n",
       "      <td>0.883333</td>\n",
       "      <td>0.125089</td>\n",
       "      <td>0.064212</td>\n",
       "      <td>0.140098</td>\n",
       "      <td>0.119780</td>\n",
       "      <td>0.413559</td>\n",
       "      <td>0.000000</td>\n",
       "      <td>...</td>\n",
       "      <td>0</td>\n",
       "      <td>0</td>\n",
       "      <td>0</td>\n",
       "      <td>1</td>\n",
       "      <td>0</td>\n",
       "      <td>0</td>\n",
       "      <td>0</td>\n",
       "      <td>0</td>\n",
       "      <td>1</td>\n",
       "      <td>0</td>\n",
       "    </tr>\n",
       "    <tr>\n",
       "      <th>1</th>\n",
       "      <td>1</td>\n",
       "      <td>181500</td>\n",
       "      <td>0.753623</td>\n",
       "      <td>0.433333</td>\n",
       "      <td>0.173281</td>\n",
       "      <td>0.121575</td>\n",
       "      <td>0.206547</td>\n",
       "      <td>0.212942</td>\n",
       "      <td>0.000000</td>\n",
       "      <td>0.347725</td>\n",
       "      <td>...</td>\n",
       "      <td>0</td>\n",
       "      <td>0</td>\n",
       "      <td>0</td>\n",
       "      <td>1</td>\n",
       "      <td>0</td>\n",
       "      <td>0</td>\n",
       "      <td>0</td>\n",
       "      <td>0</td>\n",
       "      <td>1</td>\n",
       "      <td>0</td>\n",
       "    </tr>\n",
       "    <tr>\n",
       "      <th>2</th>\n",
       "      <td>2</td>\n",
       "      <td>223500</td>\n",
       "      <td>0.934783</td>\n",
       "      <td>0.866667</td>\n",
       "      <td>0.086109</td>\n",
       "      <td>0.185788</td>\n",
       "      <td>0.150573</td>\n",
       "      <td>0.134465</td>\n",
       "      <td>0.419370</td>\n",
       "      <td>0.000000</td>\n",
       "      <td>...</td>\n",
       "      <td>0</td>\n",
       "      <td>0</td>\n",
       "      <td>0</td>\n",
       "      <td>1</td>\n",
       "      <td>0</td>\n",
       "      <td>0</td>\n",
       "      <td>0</td>\n",
       "      <td>0</td>\n",
       "      <td>1</td>\n",
       "      <td>0</td>\n",
       "    </tr>\n",
       "    <tr>\n",
       "      <th>3</th>\n",
       "      <td>3</td>\n",
       "      <td>140000</td>\n",
       "      <td>0.311594</td>\n",
       "      <td>0.333333</td>\n",
       "      <td>0.038271</td>\n",
       "      <td>0.231164</td>\n",
       "      <td>0.123732</td>\n",
       "      <td>0.143873</td>\n",
       "      <td>0.366102</td>\n",
       "      <td>0.000000</td>\n",
       "      <td>...</td>\n",
       "      <td>0</td>\n",
       "      <td>0</td>\n",
       "      <td>0</td>\n",
       "      <td>1</td>\n",
       "      <td>1</td>\n",
       "      <td>0</td>\n",
       "      <td>0</td>\n",
       "      <td>0</td>\n",
       "      <td>0</td>\n",
       "      <td>0</td>\n",
       "    </tr>\n",
       "    <tr>\n",
       "      <th>4</th>\n",
       "      <td>4</td>\n",
       "      <td>250000</td>\n",
       "      <td>0.927536</td>\n",
       "      <td>0.833333</td>\n",
       "      <td>0.116052</td>\n",
       "      <td>0.209760</td>\n",
       "      <td>0.187398</td>\n",
       "      <td>0.186095</td>\n",
       "      <td>0.509927</td>\n",
       "      <td>0.224037</td>\n",
       "      <td>...</td>\n",
       "      <td>0</td>\n",
       "      <td>0</td>\n",
       "      <td>0</td>\n",
       "      <td>1</td>\n",
       "      <td>0</td>\n",
       "      <td>0</td>\n",
       "      <td>0</td>\n",
       "      <td>0</td>\n",
       "      <td>1</td>\n",
       "      <td>0</td>\n",
       "    </tr>\n",
       "  </tbody>\n",
       "</table>\n",
       "<p>5 rows × 213 columns</p>\n",
       "</div>"
      ],
      "text/plain": [
       "   Unnamed: 0  SalePrice  YearBuilt_normalized  YearRemodAdd_normalized  \\\n",
       "0           0     208500              0.949275                 0.883333   \n",
       "1           1     181500              0.753623                 0.433333   \n",
       "2           2     223500              0.934783                 0.866667   \n",
       "3           3     140000              0.311594                 0.333333   \n",
       "4           4     250000              0.927536                 0.833333   \n",
       "\n",
       "   BsmtFinSF1_normalized  BsmtUnfSF_normalized  TotalBsmtSF_normalized  \\\n",
       "0               0.125089              0.064212                0.140098   \n",
       "1               0.173281              0.121575                0.206547   \n",
       "2               0.086109              0.185788                0.150573   \n",
       "3               0.038271              0.231164                0.123732   \n",
       "4               0.116052              0.209760                0.187398   \n",
       "\n",
       "   1stFlrSF_normalized  2ndFlrSF_normalized  WoodDeckSF_normalized  ...  \\\n",
       "0             0.119780             0.413559               0.000000  ...   \n",
       "1             0.212942             0.000000               0.347725  ...   \n",
       "2             0.134465             0.419370               0.000000  ...   \n",
       "3             0.143873             0.366102               0.000000  ...   \n",
       "4             0.186095             0.509927               0.224037  ...   \n",
       "\n",
       "   D_ConLw  D_New  D_Oth  D_WD  D_Abnorml  D_AdjLand  D_Alloca  D_Family  \\\n",
       "0        0      0      0     1          0          0         0         0   \n",
       "1        0      0      0     1          0          0         0         0   \n",
       "2        0      0      0     1          0          0         0         0   \n",
       "3        0      0      0     1          1          0         0         0   \n",
       "4        0      0      0     1          0          0         0         0   \n",
       "\n",
       "   D_Normal  D_Partial  \n",
       "0         1          0  \n",
       "1         1          0  \n",
       "2         1          0  \n",
       "3         0          0  \n",
       "4         1          0  \n",
       "\n",
       "[5 rows x 213 columns]"
      ]
     },
     "execution_count": 3,
     "metadata": {},
     "output_type": "execute_result"
    }
   ],
   "source": [
    "df.head()"
   ]
  },
  {
   "cell_type": "code",
   "execution_count": 4,
   "id": "2ecba90a",
   "metadata": {},
   "outputs": [
    {
     "data": {
      "text/plain": [
       "Index(['Unnamed: 0', 'SalePrice', 'YearBuilt_normalized',\n",
       "       'YearRemodAdd_normalized', 'BsmtFinSF1_normalized',\n",
       "       'BsmtUnfSF_normalized', 'TotalBsmtSF_normalized', '1stFlrSF_normalized',\n",
       "       '2ndFlrSF_normalized', 'WoodDeckSF_normalized',\n",
       "       ...\n",
       "       'D_ConLw', 'D_New', 'D_Oth', 'D_WD', 'D_Abnorml', 'D_AdjLand',\n",
       "       'D_Alloca', 'D_Family', 'D_Normal', 'D_Partial'],\n",
       "      dtype='object', length=213)"
      ]
     },
     "execution_count": 4,
     "metadata": {},
     "output_type": "execute_result"
    }
   ],
   "source": [
    "df.columns"
   ]
  },
  {
   "cell_type": "code",
   "execution_count": 15,
   "id": "c5fb7cc7",
   "metadata": {},
   "outputs": [
    {
     "data": {
      "text/plain": [
       "(1460, 211)"
      ]
     },
     "execution_count": 15,
     "metadata": {},
     "output_type": "execute_result"
    }
   ],
   "source": [
    "y.shape\n",
    "X.shape"
   ]
  },
  {
   "cell_type": "code",
   "execution_count": 17,
   "id": "ddb4af4c",
   "metadata": {},
   "outputs": [],
   "source": [
    "X = df.drop(['Unnamed: 0', 'SalePrice'], axis=1).values\n",
    "y = df['SalePrice'].values\n",
    "\n",
    "X_train, X_test, y_train, y_test, = train_test_split(X, y, test_size=0.3, random_state=42)"
   ]
  },
  {
   "cell_type": "markdown",
   "id": "6d720aa7",
   "metadata": {},
   "source": [
    "## OLS Linear Regression"
   ]
  },
  {
   "cell_type": "code",
   "execution_count": 18,
   "id": "1daec1f7",
   "metadata": {},
   "outputs": [
    {
     "data": {
      "text/plain": [
       "-8868553842821034.0"
      ]
     },
     "execution_count": 18,
     "metadata": {},
     "output_type": "execute_result"
    }
   ],
   "source": [
    "reg = LinearRegression()\n",
    "reg.fit(X_train, y_train)\n",
    "y_pred = reg.predict(X_test)\n",
    "reg.score(X_test, y_test)"
   ]
  },
  {
   "cell_type": "code",
   "execution_count": 19,
   "id": "252cabdf",
   "metadata": {},
   "outputs": [
    {
     "data": {
      "text/plain": [
       "7866740127851.165"
      ]
     },
     "execution_count": 19,
     "metadata": {},
     "output_type": "execute_result"
    }
   ],
   "source": [
    "mean_squared_error(y_test, y_pred, squared=False)"
   ]
  },
  {
   "cell_type": "markdown",
   "id": "368f21e4",
   "metadata": {},
   "source": [
    "#### Outrageous results. \n",
    "\n",
    "OLS Regression is giving outrageasly horrible results. An R-squared value of -8868553842821034.0 and a mean squared of error 7866740127851.165 do not make sense given the context of what we are trying to accomplish here, predict housing prices in the range of 200000 to 800000. On to random forest."
   ]
  },
  {
   "cell_type": "markdown",
   "id": "91c07c45",
   "metadata": {},
   "source": [
    "## Random Forest"
   ]
  },
  {
   "cell_type": "code",
   "execution_count": 70,
   "id": "7d65bc57",
   "metadata": {},
   "outputs": [
    {
     "name": "stdout",
     "output_type": "stream",
     "text": [
      "Root Mean Squared Error: 25836.927783181756\n",
      "R-squared: 0.9043367916593468\n"
     ]
    }
   ],
   "source": [
    "rf_model = RandomForestRegressor(n_estimators=100, random_state=42)\n",
    "rf_model.fit(X_train, y_train)\n",
    "y_pred = rf_model.predict(X_test)\n",
    "mse = mean_squared_error(y_test, y_pred)\n",
    "rmse = np.sqrt(mse)\n",
    "print(f\"Root Mean Squared Error: {rmse}\")\n",
    "print(f\"R-squared: {rf_model.score(X_test, y_test)}\")"
   ]
  },
  {
   "cell_type": "markdown",
   "id": "c00e2f72",
   "metadata": {},
   "source": [
    "#### This is a much better result.\n",
    "\n",
    "Compared to the OLS linear regression, these results are much more palpable. RMSE of 25,836 given that the majority of our housing prices we are trying to predict range from 150000 all the way to 600000k shown in the histogram below. Perhaps random forest, as expected is the best model for us, however, I am going to explore and see if there is some middle ground with Regularized Regression"
   ]
  },
  {
   "cell_type": "code",
   "execution_count": 30,
   "id": "bb0988f1",
   "metadata": {},
   "outputs": [
    {
     "data": {
      "text/plain": [
       "<Axes: >"
      ]
     },
     "execution_count": 30,
     "metadata": {},
     "output_type": "execute_result"
    },
    {
     "data": {
      "image/png": "[encoded data removed]",
      "text/plain": [
       "<Figure size 640x480 with 1 Axes>"
      ]
     },
     "metadata": {},
     "output_type": "display_data"
    }
   ],
   "source": [
    "df['SalePrice'].hist()"
   ]
  },
  {
   "cell_type": "markdown",
   "id": "483eb5a3",
   "metadata": {},
   "source": [
    "## Regularized Regression"
   ]
  },
  {
   "cell_type": "code",
   "execution_count": 33,
   "id": "693b08a1",
   "metadata": {},
   "outputs": [
    {
     "name": "stdout",
     "output_type": "stream",
     "text": [
      "{0.1: 0.8885492786513514, 1.0: 0.8826922462637675, 10.0: 0.8714814788105874, 100.0: 0.8442996892642903, 1000.0: 0.7605555112222694}\n"
     ]
    }
   ],
   "source": [
    "scores = {}\n",
    "for alpha in [0.1, 1.0, 10.0, 100.0, 1000.0]:\n",
    "    ridge = Ridge(alpha=alpha)\n",
    "    ridge.fit(X_train, y_train)\n",
    "    y_pred = ridge.predict(X_test)\n",
    "    scores[alpha] = ridge.score(X_test, y_test)\n",
    "print(scores)"
   ]
  },
  {
   "cell_type": "code",
   "execution_count": 35,
   "id": "23110548",
   "metadata": {},
   "outputs": [
    {
     "data": {
      "text/plain": [
       "1000.0"
      ]
     },
     "execution_count": 35,
     "metadata": {},
     "output_type": "execute_result"
    }
   ],
   "source": [
    "alpha"
   ]
  },
  {
   "cell_type": "code",
   "execution_count": 40,
   "id": "f60c52a9",
   "metadata": {},
   "outputs": [
    {
     "data": {
      "text/plain": [
       "Text(0.5, 0, 'alpha ridge hyperparameter')"
      ]
     },
     "execution_count": 40,
     "metadata": {},
     "output_type": "execute_result"
    },
    {
     "data": {
      "image/png": "[encoded data removed]",
      "text/plain": [
       "<Figure size 640x480 with 1 Axes>"
      ]
     },
     "metadata": {},
     "output_type": "display_data"
    }
   ],
   "source": [
    "plt.plot([0.1, 1.0, 10.0, 100.0, 1000.0], scores.values())\n",
    "plt.ylabel('R-squared')\n",
    "plt.title('Ridge Regression')\n",
    "plt.xlabel('alpha ridge hyperparameter')"
   ]
  },
  {
   "cell_type": "markdown",
   "id": "78e27249",
   "metadata": {},
   "source": [
    "#### Ridge Regression alpha hyperparameter of 0.1 gives R-squared of .88\n",
    "\n",
    "This is great, but not better than the .9 R-squared we saw for Random Forest Regression"
   ]
  },
  {
   "cell_type": "markdown",
   "id": "dcb8f649",
   "metadata": {},
   "source": [
    "## Cross Validation\n",
    "\n",
    "The goal will be to use 6 fold CV to see what model performs better: Random Forest Regression or Ridge Regression. I will also be doing Grid Search CV for hyperparemeter tuning. "
   ]
  },
  {
   "cell_type": "code",
   "execution_count": 44,
   "id": "07be5e30",
   "metadata": {},
   "outputs": [
    {
     "name": "stderr",
     "output_type": "stream",
     "text": [
      "/Users/dennisfrancis/anaconda3/lib/python3.11/site-packages/sklearn/linear_model/_sag.py:350: ConvergenceWarning: The max_iter was reached which means the coef_ did not converge\n",
      "  warnings.warn(\n",
      "/Users/dennisfrancis/anaconda3/lib/python3.11/site-packages/sklearn/linear_model/_sag.py:350: ConvergenceWarning: The max_iter was reached which means the coef_ did not converge\n",
      "  warnings.warn(\n",
      "/Users/dennisfrancis/anaconda3/lib/python3.11/site-packages/sklearn/linear_model/_sag.py:350: ConvergenceWarning: The max_iter was reached which means the coef_ did not converge\n",
      "  warnings.warn(\n",
      "/Users/dennisfrancis/anaconda3/lib/python3.11/site-packages/sklearn/linear_model/_sag.py:350: ConvergenceWarning: The max_iter was reached which means the coef_ did not converge\n",
      "  warnings.warn(\n",
      "/Users/dennisfrancis/anaconda3/lib/python3.11/site-packages/sklearn/linear_model/_sag.py:350: ConvergenceWarning: The max_iter was reached which means the coef_ did not converge\n",
      "  warnings.warn(\n"
     ]
    },
    {
     "name": "stdout",
     "output_type": "stream",
     "text": [
      "{'alpha': 0.0001, 'solver': 'sag'} 0.7539317346555153\n"
     ]
    },
    {
     "name": "stderr",
     "output_type": "stream",
     "text": [
      "/Users/dennisfrancis/anaconda3/lib/python3.11/site-packages/sklearn/linear_model/_sag.py:350: ConvergenceWarning: The max_iter was reached which means the coef_ did not converge\n",
      "  warnings.warn(\n"
     ]
    }
   ],
   "source": [
    "kf = KFold(n_splits = 5, shuffle=True, random_state=42)\n",
    "param_grid = {'alpha':np.arange(0.0001, 1, 10), 'solver':['sag', 'lsqr']}\n",
    "ridge = Ridge()\n",
    "ridge_cv = GridSearchCV(ridge, param_grid, cv=kf)\n",
    "ridge_cv.fit(X_train, y_train)\n",
    "print(ridge_cv.best_params_, ridge_cv.best_score_)"
   ]
  },
  {
   "cell_type": "markdown",
   "id": "241da039",
   "metadata": {},
   "source": [
    "#### The model didn't converge, I will adjust the range and play with different values for max_iter"
   ]
  },
  {
   "cell_type": "code",
   "execution_count": 63,
   "id": "cede1872",
   "metadata": {},
   "outputs": [
    {
     "name": "stdout",
     "output_type": "stream",
     "text": [
      "{'alpha': 0.0001, 'solver': 'sag'} 0.805730746638335\n"
     ]
    },
    {
     "name": "stderr",
     "output_type": "stream",
     "text": [
      "/Users/dennisfrancis/anaconda3/lib/python3.11/site-packages/sklearn/linear_model/_sag.py:350: ConvergenceWarning: The max_iter was reached which means the coef_ did not converge\n",
      "  warnings.warn(\n",
      "/Users/dennisfrancis/anaconda3/lib/python3.11/site-packages/sklearn/linear_model/_sag.py:350: ConvergenceWarning: The max_iter was reached which means the coef_ did not converge\n",
      "  warnings.warn(\n",
      "/Users/dennisfrancis/anaconda3/lib/python3.11/site-packages/sklearn/linear_model/_sag.py:350: ConvergenceWarning: The max_iter was reached which means the coef_ did not converge\n",
      "  warnings.warn(\n",
      "/Users/dennisfrancis/anaconda3/lib/python3.11/site-packages/sklearn/linear_model/_sag.py:350: ConvergenceWarning: The max_iter was reached which means the coef_ did not converge\n",
      "  warnings.warn(\n",
      "/Users/dennisfrancis/anaconda3/lib/python3.11/site-packages/sklearn/linear_model/_sag.py:350: ConvergenceWarning: The max_iter was reached which means the coef_ did not converge\n",
      "  warnings.warn(\n",
      "/Users/dennisfrancis/anaconda3/lib/python3.11/site-packages/sklearn/linear_model/_sag.py:350: ConvergenceWarning: The max_iter was reached which means the coef_ did not converge\n",
      "  warnings.warn(\n"
     ]
    }
   ],
   "source": [
    "kf = KFold(n_splits = 5, shuffle=True, random_state=42)\n",
    "param_grid = {'alpha':np.arange(0.0001, .3, 10), 'solver':['sag', 'lsqr']}\n",
    "ridge = Ridge(max_iter=10)\n",
    "ridge_cv = GridSearchCV(ridge, param_grid, cv=kf)\n",
    "ridge_cv.fit(X_train, y_train)\n",
    "print(ridge_cv.best_params_, ridge_cv.best_score_)"
   ]
  },
  {
   "cell_type": "markdown",
   "id": "8cbcbe1f",
   "metadata": {},
   "source": [
    "#### running the above cell numerous times, alpha of 0.0001 remains the best."
   ]
  },
  {
   "cell_type": "code",
   "execution_count": 66,
   "id": "b37c3e53",
   "metadata": {},
   "outputs": [
    {
     "data": {
      "text/plain": [
       "0.8877903189177282"
      ]
     },
     "execution_count": 66,
     "metadata": {},
     "output_type": "execute_result"
    }
   ],
   "source": [
    "ridge = Ridge(alpha=0.0001)\n",
    "ridge.fit(X_train, y_train)\n",
    "ridge.score(X_test, y_test)"
   ]
  },
  {
   "cell_type": "markdown",
   "id": "b0b08a2e",
   "metadata": {},
   "source": [
    "### CV on Random Forest Regression and Ridge Regression"
   ]
  },
  {
   "cell_type": "markdown",
   "id": "febf471c",
   "metadata": {},
   "source": [
    "#### Random Forest"
   ]
  },
  {
   "cell_type": "code",
   "execution_count": 71,
   "id": "4c9ad816",
   "metadata": {},
   "outputs": [
    {
     "name": "stdout",
     "output_type": "stream",
     "text": [
      "[0.85492552 0.89729032 0.77147012 0.68956155 0.90357771 0.92769762\n",
      " 0.90447249 0.93808053 0.87998408 0.89437137]\n",
      "0.8661431307760343 0.07352744726808691\n",
      "[0.70799097 0.93574437]\n"
     ]
    }
   ],
   "source": [
    "kf = KFold(n_splits=10, shuffle=True)\n",
    "rf_model = RandomForestRegressor(n_estimators=100, random_state=42)\n",
    "cv_results = cross_val_score(rf_model, X, y, cv=kf)\n",
    "print(cv_results)\n",
    "print(np.mean(cv_results), np.std(cv_results))\n",
    "print(np.quantile(cv_results, [0.025, .975]))"
   ]
  },
  {
   "cell_type": "markdown",
   "id": "5677fd45",
   "metadata": {},
   "source": [
    "#### Ridge "
   ]
  },
  {
   "cell_type": "code",
   "execution_count": 72,
   "id": "b3c8919e",
   "metadata": {},
   "outputs": [
    {
     "name": "stdout",
     "output_type": "stream",
     "text": [
      "[0.84000122 0.90715199 0.87963974 0.68586908 0.87791303 0.88194908\n",
      " 0.80409172 0.33869202 0.89773    0.85892895]\n",
      "0.7971966830322322 0.16462171254321648\n",
      "[0.41680685 0.90503204]\n"
     ]
    }
   ],
   "source": [
    "kf = KFold(n_splits=10, shuffle=True)\n",
    "ridge = Ridge(alpha=0.0001)\n",
    "cv_results = cross_val_score(ridge, X, y, cv=kf)\n",
    "print(cv_results)\n",
    "print(np.mean(cv_results), np.std(cv_results))\n",
    "print(np.quantile(cv_results, [0.025, .975]))"
   ]
  },
  {
   "cell_type": "markdown",
   "id": "944e43ca",
   "metadata": {},
   "source": [
    "## Results"
   ]
  },
  {
   "cell_type": "markdown",
   "id": "d6d25915",
   "metadata": {},
   "source": [
    "It was nice to have a go with the ridge regression model. It achieved useful results with an average score of 0.79 in 10 fold cross validation. In the end, as expected the random forest regression wins, with an average r-squared score of 0.86 with 10-fold cross validation. This must be due to the size of the data set and it is mostly dummy variables or categorical data, with strange columns like \"front porch screened square footage\" and \"paved basement square footage.\" The OLS regression model performed extremely poorly."
   ]
  },
  {
   "cell_type": "code",
   "execution_count": null,
   "id": "92db0b9a",
   "metadata": {},
   "outputs": [],
   "source": []
  }
 ],
 "metadata": {
  "kernelspec": {
   "display_name": "Python 3 (ipykernel)",
   "language": "python",
   "name": "python3"
  },
  "language_info": {
   "codemirror_mode": {
    "name": "ipython",
    "version": 3
   },
   "file_extension": ".py",
   "mimetype": "text/x-python",
   "name": "python",
   "nbconvert_exporter": "python",
   "pygments_lexer": "ipython3",
   "version": "3.11.3"
  }
 },
 "nbformat": 4,
 "nbformat_minor": 5
}
